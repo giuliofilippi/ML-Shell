{
 "cells": [
  {
   "attachments": {},
   "cell_type": "markdown",
   "metadata": {},
   "source": [
    "# Preprocessing"
   ]
  },
  {
   "cell_type": "code",
   "execution_count": null,
   "metadata": {},
   "outputs": [],
   "source": [
    "import pandas as pd\n",
    "import numpy as np\n",
    "import matplotlib.pyplot as plt\n",
    "import seaborn as sns"
   ]
  },
  {
   "cell_type": "code",
   "execution_count": null,
   "metadata": {},
   "outputs": [],
   "source": [
    "from sklearn.model_selection import train_test_split\n",
    "from sklearn.preprocessing import StandardScaler\n",
    "from sklearn.metrics import accuracy_score, confusion_matrix\n",
    "from sklearn.model_selection import GridSearchCV"
   ]
  },
  {
   "cell_type": "code",
   "execution_count": null,
   "metadata": {},
   "outputs": [],
   "source": [
    "# Assuming the dataset is in a CSV format\n",
    "df = pd.read_csv('data/data.csv')"
   ]
  },
  {
   "cell_type": "code",
   "execution_count": null,
   "metadata": {},
   "outputs": [],
   "source": [
    "# Separate features and target variable\n",
    "X = df.drop('target', axis=1)\n",
    "y = df['target']\n",
    "\n",
    "# Split the dataset into training and testing sets\n",
    "X_train, X_test, y_train, y_test = train_test_split(X, y, test_size=0.2, random_state=42)\n",
    "\n",
    "# Standardize the features using StandardScaler\n",
    "scaler = StandardScaler()\n",
    "X_train_scaled = scaler.fit_transform(X_train)\n",
    "X_test_scaled = scaler.transform(X_test)"
   ]
  },
  {
   "attachments": {},
   "cell_type": "markdown",
   "metadata": {},
   "source": [
    "# Training and Validation"
   ]
  },
  {
   "cell_type": "code",
   "execution_count": null,
   "metadata": {},
   "outputs": [],
   "source": [
    "from sklearn.model_selection import cross_val_score\n",
    "from sklearn.ensemble import RandomForestClassifier\n",
    "from sklearn.svm import SVC\n",
    "from sklearn.linear_model import LogisticRegression\n",
    "\n",
    "# Initialize models\n",
    "rf = RandomForestClassifier()\n",
    "svc = SVC()\n",
    "lr = LogisticRegression()\n",
    "\n",
    "# Train and validate models\n",
    "models = [rf, svc, lr]\n",
    "model_names = ['Random Forest', 'SVM', 'Logistic Regression']\n",
    "\n",
    "for model, name in zip(models, model_names):\n",
    "    # Train the model\n",
    "    model.fit(X_train_scaled, y_train)\n",
    "    \n",
    "    # Make predictions on test set\n",
    "    y_pred = model.predict(X_test_scaled)\n",
    "    \n",
    "    # Calculate accuracy score\n",
    "    accuracy = accuracy_score(y_test, y_pred)\n",
    "    print(f'{name} accuracy: {accuracy:.4f}')\n",
    "    \n",
    "    # Calculate confusion matrix\n",
    "    cm = confusion_matrix(y_test, y_pred)\n",
    "    print(f'{name} confusion matrix:')\n",
    "    print(cm)\n"
   ]
  },
  {
   "attachments": {},
   "cell_type": "markdown",
   "metadata": {},
   "source": [
    "# Hyperparameter Tuning"
   ]
  },
  {
   "attachments": {},
   "cell_type": "markdown",
   "metadata": {},
   "source": [
    "# Define parameter grid for each model\n",
    "rf_param_grid = {'n_estimators': [100, 200, 300],\n",
    "                 'max_depth': [None, 5, 10]}\n",
    "\n",
    "svc_param_grid = {'C': [0.1, 1, 10],\n",
    "                  'kernel': ['linear', 'rbf']}\n",
    "\n",
    "lr_param_grid = {'C': [0.1, 1, 10],\n",
    "                 'penalty': ['l1', 'l2']}\n",
    "\n",
    "# Perform GridSearchCV for each model\n",
    "rf_grid_search = GridSearchCV(rf, rf_param_grid, cv=5)\n",
    "rf_grid_search.fit(X_train_scaled, y_train)\n",
    "\n",
    "svc_grid_search = GridSearchCV(svc, svc_param_grid, cv=5)\n",
    "svc_grid_search.fit(X_train_scaled, y_train)\n",
    "\n",
    "lr_grid_search = GridSearchCV(lr, lr_param_grid, cv=5)\n",
    "lr_grid_search.fit(X_train_scaled, y_train)\n",
    "\n",
    "# Get best parameters and scores\n",
    "print('Random Forest - Best Parameters:', rf\n"
   ]
  }
 ],
 "metadata": {
  "language_info": {
   "name": "python"
  },
  "orig_nbformat": 4
 },
 "nbformat": 4,
 "nbformat_minor": 2
}
